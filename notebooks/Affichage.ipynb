{
 "cells": [
  {
   "cell_type": "code",
   "execution_count": 2,
   "id": "ab75ae6c",
   "metadata": {},
   "outputs": [],
   "source": [
    "import numpy as np\n",
    "import matplotlib.pyplot as plt\n",
    "import wave\n",
    "import struct\n",
    "\n",
    "def f(file):\n",
    "    w = wave.open(file, \"rb\")\n",
    "    params = w.getparams()\n",
    "    nchannels, sampwidth, framerate, nframes = params[:4]\n",
    "\n",
    "    time = np.arange(0, nframes)/framerate\n",
    "\n",
    "    Data_str = w.readframes(nframes)\n",
    "\n",
    "    Data_num = np.frombuffer(Data_str, dtype = np.int16)\n",
    "\n",
    "    plt.figure(figsize = (20,5))\n",
    "    plt.plot(time, Data_num)\n",
    "    plt.show()\n",
    "\n",
    "    w.close()"
   ]
  }
 ],
 "metadata": {
  "kernelspec": {
   "display_name": "Python 3",
   "language": "python",
   "name": "python3"
  },
  "language_info": {
   "codemirror_mode": {
    "name": "ipython",
    "version": 3
   },
   "file_extension": ".py",
   "mimetype": "text/x-python",
   "name": "python",
   "nbconvert_exporter": "python",
   "pygments_lexer": "ipython3",
   "version": "3.7.3"
  }
 },
 "nbformat": 4,
 "nbformat_minor": 5
}
