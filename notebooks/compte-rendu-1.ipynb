{
 "cells": [
  {
   "cell_type": "markdown",
   "id": "9c3e673d",
   "metadata": {},
   "source": [
    "# Compte rendu des premiers essais"
   ]
  },
  {
   "cell_type": "markdown",
   "id": "914e87dd",
   "metadata": {},
   "source": [
    "Le but de ce document est de rendre compte de la progression du projet au fil des séances."
   ]
  },
  {
   "cell_type": "markdown",
   "id": "33c19112",
   "metadata": {},
   "source": [
    "## Premier modèle : des cordes vocales à partir d'un système multi-masse."
   ]
  },
  {
   "cell_type": "markdown",
   "id": "9d1e0b29",
   "metadata": {},
   "source": [
    "La première méthode populaire pour modéliser des cordes vocales à partir de phénomènes physique a été celle de J. L Flanagan dans un article intitulé <em>source system interaction in the vocal tract</em> paru en 1968.\n",
    "C'est à partir de cette idée que nous allons réaliser notre première modélisation de corde vocale. Nous n'en garderons en réalité que l'idée car les calculs présentés dans l'article dépasse pour l'instant nos compétence. De plus, le but est de produire un premier résultat rapidement pour bien cerner les limites et difficultées du projet."
   ]
  },
  {
   "cell_type": "markdown",
   "id": "10b950a3",
   "metadata": {},
   "source": [
    "Voici une description rapide du système de masses oscillantes que nous allons utiliser : "
   ]
  },
  {
   "cell_type": "markdown",
   "id": "2c092871",
   "metadata": {},
   "source": [
    "![masse-ressort](unnamed.gif)"
   ]
  },
  {
   "cell_type": "markdown",
   "id": "4ea05719",
   "metadata": {},
   "source": [
    "Dans un premier temps, on ne tiendra pas compte de l'amortissement fluide $C$."
   ]
  },
  {
   "cell_type": "markdown",
   "id": "a67c93e7",
   "metadata": {},
   "source": [
    "En appliquant le principe fondamental de la dynamique, on obtient :"
   ]
  },
  {
   "cell_type": "markdown",
   "id": "13daee85",
   "metadata": {},
   "source": [
    "$$m\\ddot{y} = -2T\\sin(\\theta) = -2k(s-a_0)y/s$$\n",
    "\n",
    "$$\\omega^2 = -\\frac{\\ddot{y}}{y} = \\frac{2k}{m}\\left(1-\\frac{a_0}{a}\\right)$$\n",
    "\n",
    "$$f = \\frac{1}{\\pi}\\sqrt{\\frac{T}{ml}} $$"
   ]
  },
  {
   "cell_type": "markdown",
   "id": "204e21f1",
   "metadata": {},
   "source": [
    "### Remarque"
   ]
  },
  {
   "cell_type": "markdown",
   "id": "1670b6c0",
   "metadata": {},
   "source": [
    ">En comparant la loi de Hooke et la formule qui déterminer le module de Young $E$, on peut trouver une relation de proportionnalité inverse entre $k$ la constante de raideur du ressort et $l$ la longueur des ressort, qui seront ici en fait des bandes élastiques.\n",
    "\n",
    "$$F= \\frac{AE}{l}\\Delta l \\;\\;\\; F=-k\\Delta{l} \\; \\implies k \\propto \\frac{1}{l}$$"
   ]
  },
  {
   "cell_type": "markdown",
   "id": "311693ce",
   "metadata": {},
   "source": [
    "On a obtenu la fréquence à laquelle vibre nos cordes vocales, on peut calculer cette fréquence pour $f_n$ où $f_1$ est la fréquence fondamentale."
   ]
  },
  {
   "cell_type": "markdown",
   "id": "378d12ca",
   "metadata": {},
   "source": [
    "$$f_n = \\frac{1}{\\pi}\\sqrt{\\frac{n^2}{ml}} $$"
   ]
  },
  {
   "cell_type": "markdown",
   "id": "51be4fe6",
   "metadata": {},
   "source": [
    "Pour comprendre comment ce model fonctionne, il faut s'imaginer une ribenbelle de petites masses oscillantes tel que pour la n-ième masse d'une série de masses oscillantes, sa taille et la longueur de son élastique est $1/n$ celle de la première. Bien sûr, il peut y avoir plusieurs séries de masse différentes partant d'un fréquence $f_1$ différente."
   ]
  },
  {
   "cell_type": "markdown",
   "id": "cc7f3799",
   "metadata": {},
   "source": [
    "## Code"
   ]
  },
  {
   "cell_type": "code",
   "execution_count": 2,
   "id": "36783355",
   "metadata": {},
   "outputs": [],
   "source": [
    "import numpy as np\n",
    "import matplotlib.pyplot as plt\n",
    "import wave\n",
    "import struct\n",
    "\n",
    "#Default values are m = 0.15 * 10**(-3) kg, l = 1.4 * 10**(-3) m, T = 3 N\n",
    "m = 0.15 * 10**(-3) #kg \n",
    "l = 1.4 * 10**(-3) #m\n",
    "T =  1#N"
   ]
  },
  {
   "cell_type": "code",
   "execution_count": 3,
   "id": "3e0d9899",
   "metadata": {},
   "outputs": [],
   "source": [
    "def frequency_from_fundamental(n, round_at=0, logs=False):\n",
    "    \n",
    "    \"\"\"Calculate frequency based on a {mass + ruberband} system.\"\"\"\n",
    "\n",
    "    frequency = 1/np.pi * np.sqrt(n**2*T/(m*l))\n",
    "    \n",
    "    if round_at:\n",
    "        frequency = round(frequency, round_at)\n",
    "        \n",
    "    if logs:\n",
    "        print(\"fundamental frequency : \", 1/2 * np.sqrt(T/(m*l)), \"Hz\")\n",
    "        print(\"frequency\", n,  \"is\", frequency, \"Hz\")\n",
    "        \n",
    "    return frequency\n",
    "\n",
    "def add_sine_waves(listOfSineWave, logs=False):\n",
    "    \n",
    "    \"\"\"Sums list of float64 term by term\"\"\"\n",
    "    \n",
    "    sumOfSineWaves = np.copy(listOfSineWave[0])\n",
    "\n",
    "    if logs: \n",
    "        print(\"sumOfSineWaves\", sumOfSineWaves)\n",
    "        print(listOfSineWave.ndim)\n",
    "\n",
    "    for i in range(1, len(listOfSineWave)):\n",
    "        sumOfSineWaves += listOfSineWave[i]\n",
    "        #print(\"sum at\", i, \",\", sumOfSineWaves)\n",
    "\n",
    "    if logs:\n",
    "        print(\"sumOfSineWaves :\", sumOfSineWaves)\n",
    "\n",
    "    return sumOfSineWaves\n",
    "\n",
    "def createWaveFile(name, listOfSineWave, samplingRate = 44100, logs=False):\n",
    "    \n",
    "    \"\"\"Create .wav file from a list of float64\"\"\"\n",
    "\n",
    "    F = wave.open(str(name) + '.wav', 'wb')\n",
    "    F.setnchannels(1)\n",
    "    F.setsampwidth(2)\n",
    "    F.setframerate(samplingRate)\n",
    "\n",
    "    if logs:\n",
    "        print(\"dimension of listOfSines array :\", listOfSineWave.ndim)\n",
    "\n",
    "    if listOfSineWave.ndim == 1:\n",
    "        print(listOfSineWave)\n",
    "        for w in listOfSineWave:\n",
    "            F.writeframes(struct.pack('f', w))\n",
    "    else:\n",
    "        for sine in listOfSineWave:\n",
    "            print(sine.shape)\n",
    "            for w in sine:\n",
    "                #print(type(int(w)))    \n",
    "                F.writeframes(struct.pack('f', w))\n",
    "    F.close()\n",
    "    print(str(name) + \".wav successfully created!\")"
   ]
  },
  {
   "cell_type": "code",
   "execution_count": 4,
   "id": "bba45d55",
   "metadata": {},
   "outputs": [
    {
     "name": "stdout",
     "output_type": "stream",
     "text": [
      "[     0.         895936.92178044 673345.4267005  ...  18588.83050417\n",
      "   3663.57417591 -47294.8606123 ]\n",
      "catastrophe.wav successfully created!\n"
     ]
    },
    {
     "data": {
      "image/png": "[encoded data removed]",
      "text/plain": [
       "<Figure size 432x288 with 1 Axes>"
      ]
     },
     "metadata": {
      "needs_background": "light"
     },
     "output_type": "display_data"
    }
   ],
   "source": [
    "def main():\n",
    "    samplingRate = 44100\n",
    "    samplingInterval = 1/samplingRate\n",
    "\n",
    "    nLowHarmonics = 5\n",
    "    nHighHarmonics = 18\n",
    "    amplitudelow = 5000\n",
    "    amplitudehigh = 70000\n",
    "\n",
    "    t = np.arange(0, 1, samplingInterval)\n",
    "    lowFrequencySineWaves = np.zeros((nLowHarmonics, t.size))\n",
    "    highFrequencySineWaves = np.zeros((nHighHarmonics, t.size))\n",
    "\n",
    "    #Creating the lower harmonics from the lower fundamental\n",
    "    for i in range(nLowHarmonics):\n",
    "        #create sine wave from lower frequencies\n",
    "        lowFrequencySineWaves[i] = amplitudelow * np.sin(2*np.pi*frequency_from_fundamental(i+1, round_at=0) * t)\n",
    "        #plt.plot(t, sine_waves[i])\n",
    "    #print(\"lowFrequencySineWaves\", lowFrequencySineWaves)\n",
    "    \n",
    "    #Creating the higher harmonics from the higher fundamental\n",
    "    for i in range(nHighHarmonics):\n",
    "        #create sine wave from lower frequencies\n",
    "        highFrequencySineWaves[i] = amplitudehigh * np.sin(2*np.pi*frequency_from_fundamental(i+1, round_at=0) * t)\n",
    "        #plt.plot(t, sine_waves[i])\n",
    "    #print(\"highFrequencySineWaves\", highFrequencySineWaves)\n",
    "\n",
    "    #Arbitrarly modifying our data so it sounds a little bit less terrible (and so it fits the data)\n",
    "    np.delete(lowFrequencySineWaves, 1)\n",
    "    np.delete(lowFrequencySineWaves, 2)\n",
    "    np.delete(lowFrequencySineWaves, 3)\n",
    "\n",
    "    sine_waves = np.concatenate((lowFrequencySineWaves, highFrequencySineWaves))\n",
    "    #print(\"waves:\", sine_waves)\n",
    "    createdSineWave = add_sine_waves(sine_waves)\n",
    "    createWaveFile(\"catastrophe\", createdSineWave, samplingRate=samplingRate)\n",
    "\n",
    "    plt.plot(t, createdSineWave)\n",
    "    plt.xlim(0, 0.1)\n",
    "    plt.show()\n",
    "\n",
    "if __name__ == \"__main__\":\n",
    "    main()"
   ]
  },
  {
   "cell_type": "markdown",
   "id": "60b4dc9d",
   "metadata": {},
   "source": [
    "Les fichiers sons sont enregistrés dans le dossier du projet."
   ]
  },
  {
   "cell_type": "markdown",
   "id": "91b8a298",
   "metadata": {},
   "source": [
    "Les fréquences ont été choisie par rapport au spectre de la prononciation du son 'a' de \"avion\" récupérer grâce à Audacity.\n",
    "\n",
    "![spectre](spectre.png)"
   ]
  },
  {
   "cell_type": "markdown",
   "id": "6f3d9a89",
   "metadata": {},
   "source": [
    "Pour l'instant, les résultats sont catastrophiques et nécessitent d'être tweaker pour être descent. "
   ]
  },
  {
   "cell_type": "markdown",
   "id": "1bcfe720",
   "metadata": {},
   "source": [
    "Nous allons utiliser des transformées de fourier (et peut être des transformées de fourier inverse) afin d'analyser et d'optimiser les résultats."
   ]
  }
 ],
 "metadata": {
  "kernelspec": {
   "display_name": "Python 3",
   "language": "python",
   "name": "python3"
  },
  "language_info": {
   "codemirror_mode": {
    "name": "ipython",
    "version": 3
   },
   "file_extension": ".py",
   "mimetype": "text/x-python",
   "name": "python",
   "nbconvert_exporter": "python",
   "pygments_lexer": "ipython3",
   "version": "3.7.3"
  }
 },
 "nbformat": 4,
 "nbformat_minor": 5
}
